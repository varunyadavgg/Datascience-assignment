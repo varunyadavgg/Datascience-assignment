{
 "cells": [
  {
   "cell_type": "markdown",
   "id": "08a6684b",
   "metadata": {},
   "source": [
    "# Assignment  \n",
    "## submitted by Varun Yadav - zvarun747@gmail.com\n"
   ]
  },
  {
   "cell_type": "markdown",
   "id": "3b36ab45",
   "metadata": {},
   "source": [
    "# Objective: \n",
    "### To showcase my data science, machine learning, teaching, and problem-solving skills."
   ]
  },
  {
   "cell_type": "markdown",
   "id": "b84fc124",
   "metadata": {},
   "source": [
    "## ----------------------------------------------------------------------------------------------------------------------------------"
   ]
  },
  {
   "cell_type": "markdown",
   "id": "196e1de6",
   "metadata": {},
   "source": [
    "## Question 1"
   ]
  },
  {
   "cell_type": "markdown",
   "id": "40012ec2",
   "metadata": {},
   "source": [
    "1. Data Science and Machine Learning\n",
    "    - Develop a machine learning model in a Jupyter notebook using a dataset of your choice. This should include data preprocessing, model training, and model evaluation.\n"
   ]
  },
  {
   "cell_type": "markdown",
   "id": "9be09d41",
   "metadata": {},
   "source": [
    "### answer\n"
   ]
  },
  {
   "cell_type": "markdown",
   "id": "bccaf8df",
   "metadata": {},
   "source": [
    " To demonstrate the process of developing a machine learning model, let's work on a classic classification problem using the well-known Iris dataset. The task is to classify iris flowers into three different species based on their sepal and petal measurements.\n",
    "\n",
    "Let's start by importing the necessary libraries and loading the dataset.\n"
   ]
  },
  {
   "cell_type": "code",
   "execution_count": 97,
   "id": "d14918a1",
   "metadata": {
    "scrolled": true
   },
   "outputs": [
    {
     "data": {
      "text/html": [
       "<div>\n",
       "<style scoped>\n",
       "    .dataframe tbody tr th:only-of-type {\n",
       "        vertical-align: middle;\n",
       "    }\n",
       "\n",
       "    .dataframe tbody tr th {\n",
       "        vertical-align: top;\n",
       "    }\n",
       "\n",
       "    .dataframe thead th {\n",
       "        text-align: right;\n",
       "    }\n",
       "</style>\n",
       "<table border=\"1\" class=\"dataframe\">\n",
       "  <thead>\n",
       "    <tr style=\"text-align: right;\">\n",
       "      <th></th>\n",
       "      <th>sepal_length</th>\n",
       "      <th>sepal_width</th>\n",
       "      <th>petal_length</th>\n",
       "      <th>petal_width</th>\n",
       "      <th>species</th>\n",
       "    </tr>\n",
       "  </thead>\n",
       "  <tbody>\n",
       "    <tr>\n",
       "      <th>0</th>\n",
       "      <td>5.1</td>\n",
       "      <td>3.5</td>\n",
       "      <td>1.4</td>\n",
       "      <td>0.2</td>\n",
       "      <td>Iris-setosa</td>\n",
       "    </tr>\n",
       "    <tr>\n",
       "      <th>1</th>\n",
       "      <td>4.9</td>\n",
       "      <td>3.0</td>\n",
       "      <td>1.4</td>\n",
       "      <td>0.2</td>\n",
       "      <td>Iris-setosa</td>\n",
       "    </tr>\n",
       "    <tr>\n",
       "      <th>2</th>\n",
       "      <td>4.7</td>\n",
       "      <td>3.2</td>\n",
       "      <td>1.3</td>\n",
       "      <td>0.2</td>\n",
       "      <td>Iris-setosa</td>\n",
       "    </tr>\n",
       "    <tr>\n",
       "      <th>3</th>\n",
       "      <td>4.6</td>\n",
       "      <td>3.1</td>\n",
       "      <td>1.5</td>\n",
       "      <td>0.2</td>\n",
       "      <td>Iris-setosa</td>\n",
       "    </tr>\n",
       "    <tr>\n",
       "      <th>4</th>\n",
       "      <td>5.0</td>\n",
       "      <td>3.6</td>\n",
       "      <td>1.4</td>\n",
       "      <td>0.2</td>\n",
       "      <td>Iris-setosa</td>\n",
       "    </tr>\n",
       "  </tbody>\n",
       "</table>\n",
       "</div>"
      ],
      "text/plain": [
       "   sepal_length  sepal_width  petal_length  petal_width      species\n",
       "0           5.1          3.5           1.4          0.2  Iris-setosa\n",
       "1           4.9          3.0           1.4          0.2  Iris-setosa\n",
       "2           4.7          3.2           1.3          0.2  Iris-setosa\n",
       "3           4.6          3.1           1.5          0.2  Iris-setosa\n",
       "4           5.0          3.6           1.4          0.2  Iris-setosa"
      ]
     },
     "execution_count": 97,
     "metadata": {},
     "output_type": "execute_result"
    }
   ],
   "source": [
    "import pandas as pd\n",
    "from sklearn.model_selection import train_test_split\n",
    "from sklearn.preprocessing import StandardScaler\n",
    "from sklearn.linear_model import LogisticRegression\n",
    "from sklearn.metrics import accuracy_score, classification_report\n",
    "\n",
    "# Load the Iris dataset\n",
    "url = \"https://archive.ics.uci.edu/ml/machine-learning-databases/iris/iris.data\"\n",
    "column_names = [\"sepal_length\", \"sepal_width\", \"petal_length\", \"petal_width\", \"species\"]\n",
    "iris_data = pd.read_csv(url, names=column_names)\n",
    "\n",
    "# Display the first few rows of the dataset\n",
    "iris_data.head()\n",
    "\n"
   ]
  },
  {
   "cell_type": "markdown",
   "id": "6449d375",
   "metadata": {},
   "source": [
    "\n",
    "The dataset is now loaded into the `iris_data` DataFrame, and we can observe its structure and content.\n",
    "\n",
    "Next, let's preprocess the data by splitting it into features (X) and the target variable (y), and further splitting them into training and testing sets.\n"
   ]
  },
  {
   "cell_type": "markdown",
   "id": "700716a7",
   "metadata": {},
   "source": [
    "## data preprocessing"
   ]
  },
  {
   "cell_type": "code",
   "execution_count": 98,
   "id": "7991b2d1",
   "metadata": {},
   "outputs": [],
   "source": [
    "\n",
    "# Split the dataset into features (X) and target variable (y)\n",
    "X = iris_data.drop(\"species\", axis=1)\n",
    "y = iris_data[\"species\"]\n",
    "\n",
    "# Split the data into training and testing sets\n",
    "X_train, X_test, y_train, y_test = train_test_split(X, y, test_size=0.2, random_state=42)\n",
    "\n"
   ]
  },
  {
   "cell_type": "markdown",
   "id": "40803bd0",
   "metadata": {},
   "source": [
    "\n",
    "Now that we have our data split, we can proceed with the model training. In this example, we'll use logistic regression as our machine learning algorithm.\n"
   ]
  },
  {
   "cell_type": "markdown",
   "id": "e78436df",
   "metadata": {},
   "source": [
    "# --------------------------------------------------------------------\n",
    "## let's understand more about Logistic Regression"
   ]
  },
  {
   "cell_type": "markdown",
   "id": "a5311d1a",
   "metadata": {},
   "source": [
    "\n",
    "# Logistic Regression\n",
    "\n",
    "Logistic regression is a popular statistical algorithm used for binary classification problems. It is named \"regression\" but is primarily used for classification tasks. Unlike linear regression, which predicts continuous values, logistic regression predicts the probability of an instance belonging to a particular class.\n",
    "\n",
    "## Working Principle\n",
    "\n",
    "The underlying principle of logistic regression is based on the logistic function, also known as the sigmoid function. The sigmoid function maps any real-valued number to a value between 0 and 1. It is defined as:\n",
    "\n",
    "![Sigmoid Function](https://upload.wikimedia.org/wikipedia/commons/thumb/8/88/Logistic-curve.svg/400px-Logistic-curve.svg.png)\n",
    "\n",
    "The logistic regression model estimates the parameters (weights and biases) that best fit the sigmoid function to the given input features. It applies a linear transformation to the features and passes the result through the sigmoid function to obtain the predicted probability.\n",
    "\n",
    "## Model Representation\n",
    "\n",
    "In logistic regression, the output of the model is the probability of an instance belonging to a specific class. The predicted probability is then converted into a binary prediction by applying a threshold. If the probability is above the threshold, the instance is classified as one class; otherwise, it is classified as the other class.\n",
    "\n",
    "Mathematically, the logistic regression model can be represented as:\n",
    "\n",
    "```\n",
    "z = w_1*x_1 + w_2*x_2 + ... + w_n*x_n + b\n",
    "p = sigmoid(z)\n",
    "```\n",
    "\n",
    "where:\n",
    "- `z` is the linear combination of the feature values (`x_i`) weighted by the corresponding parameters (`w_i`) and added to the bias term (`b`).\n",
    "- `p` is the predicted probability obtained by applying the sigmoid function to `z`.\n",
    "\n",
    "## Model Training\n",
    "\n",
    "The logistic regression model is trained using optimization algorithms like gradient descent to minimize a loss function. The most commonly used loss function in logistic regression is the binary cross-entropy loss. It measures the dissimilarity between the predicted probabilities and the true labels.\n",
    "\n",
    "During training, the model adjusts the weights and biases to minimize the loss, aiming to make accurate predictions. The optimization process involves iteratively updating the parameters based on the gradients of the loss function with respect to the parameters.\n",
    "\n",
    "## Model Evaluation\n",
    "\n",
    "To evaluate the performance of a logistic regression model, various evaluation metrics can be used. Common metrics include accuracy, precision, recall, F1-score, and area under the ROC curve (AUC-ROC). These metrics assess the model's ability to correctly classify instances and measure the trade-off between true positives and false positives.\n",
    "\n",
    "## Applications\n",
    "\n",
    "Logistic regression is widely used in various domains, including:\n",
    "- Disease diagnosis: Predicting the likelihood of a patient having a particular disease based on medical test results.\n",
    "- Customer churn prediction: Determining the probability of customers leaving a service or subscription.\n",
    "- Spam detection: Classifying emails as spam or not spam based on their content.\n",
    "- Credit risk assessment: Evaluating the probability of default for loan applicants based on their financial information.\n",
    "\n",
    "Logistic regression is a powerful and interpretable algorithm that forms the basis for more advanced techniques in machine learning. It provides a straightforward and effective approach for binary classification problems when the relationship between features and the target variable is not linear."
   ]
  },
  {
   "cell_type": "markdown",
   "id": "9545584b",
   "metadata": {},
   "source": [
    "## -------------------------------------------------------------------------------\n",
    "\n",
    "### Scaling the features And Model Training"
   ]
  },
  {
   "cell_type": "code",
   "execution_count": 99,
   "id": "33f64438",
   "metadata": {},
   "outputs": [
    {
     "data": {
      "text/html": [
       "<style>#sk-container-id-10 {color: black;background-color: white;}#sk-container-id-10 pre{padding: 0;}#sk-container-id-10 div.sk-toggleable {background-color: white;}#sk-container-id-10 label.sk-toggleable__label {cursor: pointer;display: block;width: 100%;margin-bottom: 0;padding: 0.3em;box-sizing: border-box;text-align: center;}#sk-container-id-10 label.sk-toggleable__label-arrow:before {content: \"▸\";float: left;margin-right: 0.25em;color: #696969;}#sk-container-id-10 label.sk-toggleable__label-arrow:hover:before {color: black;}#sk-container-id-10 div.sk-estimator:hover label.sk-toggleable__label-arrow:before {color: black;}#sk-container-id-10 div.sk-toggleable__content {max-height: 0;max-width: 0;overflow: hidden;text-align: left;background-color: #f0f8ff;}#sk-container-id-10 div.sk-toggleable__content pre {margin: 0.2em;color: black;border-radius: 0.25em;background-color: #f0f8ff;}#sk-container-id-10 input.sk-toggleable__control:checked~div.sk-toggleable__content {max-height: 200px;max-width: 100%;overflow: auto;}#sk-container-id-10 input.sk-toggleable__control:checked~label.sk-toggleable__label-arrow:before {content: \"▾\";}#sk-container-id-10 div.sk-estimator input.sk-toggleable__control:checked~label.sk-toggleable__label {background-color: #d4ebff;}#sk-container-id-10 div.sk-label input.sk-toggleable__control:checked~label.sk-toggleable__label {background-color: #d4ebff;}#sk-container-id-10 input.sk-hidden--visually {border: 0;clip: rect(1px 1px 1px 1px);clip: rect(1px, 1px, 1px, 1px);height: 1px;margin: -1px;overflow: hidden;padding: 0;position: absolute;width: 1px;}#sk-container-id-10 div.sk-estimator {font-family: monospace;background-color: #f0f8ff;border: 1px dotted black;border-radius: 0.25em;box-sizing: border-box;margin-bottom: 0.5em;}#sk-container-id-10 div.sk-estimator:hover {background-color: #d4ebff;}#sk-container-id-10 div.sk-parallel-item::after {content: \"\";width: 100%;border-bottom: 1px solid gray;flex-grow: 1;}#sk-container-id-10 div.sk-label:hover label.sk-toggleable__label {background-color: #d4ebff;}#sk-container-id-10 div.sk-serial::before {content: \"\";position: absolute;border-left: 1px solid gray;box-sizing: border-box;top: 0;bottom: 0;left: 50%;z-index: 0;}#sk-container-id-10 div.sk-serial {display: flex;flex-direction: column;align-items: center;background-color: white;padding-right: 0.2em;padding-left: 0.2em;position: relative;}#sk-container-id-10 div.sk-item {position: relative;z-index: 1;}#sk-container-id-10 div.sk-parallel {display: flex;align-items: stretch;justify-content: center;background-color: white;position: relative;}#sk-container-id-10 div.sk-item::before, #sk-container-id-10 div.sk-parallel-item::before {content: \"\";position: absolute;border-left: 1px solid gray;box-sizing: border-box;top: 0;bottom: 0;left: 50%;z-index: -1;}#sk-container-id-10 div.sk-parallel-item {display: flex;flex-direction: column;z-index: 1;position: relative;background-color: white;}#sk-container-id-10 div.sk-parallel-item:first-child::after {align-self: flex-end;width: 50%;}#sk-container-id-10 div.sk-parallel-item:last-child::after {align-self: flex-start;width: 50%;}#sk-container-id-10 div.sk-parallel-item:only-child::after {width: 0;}#sk-container-id-10 div.sk-dashed-wrapped {border: 1px dashed gray;margin: 0 0.4em 0.5em 0.4em;box-sizing: border-box;padding-bottom: 0.4em;background-color: white;}#sk-container-id-10 div.sk-label label {font-family: monospace;font-weight: bold;display: inline-block;line-height: 1.2em;}#sk-container-id-10 div.sk-label-container {text-align: center;}#sk-container-id-10 div.sk-container {/* jupyter's `normalize.less` sets `[hidden] { display: none; }` but bootstrap.min.css set `[hidden] { display: none !important; }` so we also need the `!important` here to be able to override the default hidden behavior on the sphinx rendered scikit-learn.org. See: https://github.com/scikit-learn/scikit-learn/issues/21755 */display: inline-block !important;position: relative;}#sk-container-id-10 div.sk-text-repr-fallback {display: none;}</style><div id=\"sk-container-id-10\" class=\"sk-top-container\"><div class=\"sk-text-repr-fallback\"><pre>LogisticRegression()</pre><b>In a Jupyter environment, please rerun this cell to show the HTML representation or trust the notebook. <br />On GitHub, the HTML representation is unable to render, please try loading this page with nbviewer.org.</b></div><div class=\"sk-container\" hidden><div class=\"sk-item\"><div class=\"sk-estimator sk-toggleable\"><input class=\"sk-toggleable__control sk-hidden--visually\" id=\"sk-estimator-id-10\" type=\"checkbox\" checked><label for=\"sk-estimator-id-10\" class=\"sk-toggleable__label sk-toggleable__label-arrow\">LogisticRegression</label><div class=\"sk-toggleable__content\"><pre>LogisticRegression()</pre></div></div></div></div></div>"
      ],
      "text/plain": [
       "LogisticRegression()"
      ]
     },
     "execution_count": 99,
     "metadata": {},
     "output_type": "execute_result"
    }
   ],
   "source": [
    "\n",
    "# Perform feature scaling on the training and testing sets # model selection\n",
    "scaler = StandardScaler()\n",
    "X_train_scaled = scaler.fit_transform(X_train)\n",
    "X_test_scaled = scaler.transform(X_test)\n",
    "\n",
    "# Create an instance of the logistic regression model\n",
    "model = LogisticRegression()\n",
    "\n",
    "# Train the model using the scaled training data\n",
    "model.fit(X_train_scaled, y_train)\n"
   ]
  },
  {
   "cell_type": "markdown",
   "id": "3b8456b6",
   "metadata": {},
   "source": [
    "\n",
    "The model is trained using the scaled training data. Finally, let's evaluate the trained model using the testing data and calculate the accuracy score and classification report.\n",
    "\n",
    "\n",
    "### Predicting the values\n"
   ]
  },
  {
   "cell_type": "code",
   "execution_count": 100,
   "id": "78d0ce0f",
   "metadata": {},
   "outputs": [
    {
     "name": "stdout",
     "output_type": "stream",
     "text": [
      "Accuracy: 1.0\n"
     ]
    }
   ],
   "source": [
    "\n",
    "# Make predictions on the testing data\n",
    "y_pred = model.predict(X_test_scaled)\n",
    "\n",
    "# Calculate the accuracy of the model\n",
    "accuracy = accuracy_score(y_test, y_pred)\n",
    "print(\"Accuracy:\", accuracy)\n"
   ]
  },
  {
   "cell_type": "markdown",
   "id": "b5782db5",
   "metadata": {},
   "source": [
    "\n",
    "The code above will output the accuracy score and the classification report, providing a detailed evaluation of the model's performance on the test data.\n"
   ]
  },
  {
   "cell_type": "markdown",
   "id": "39ec19f5",
   "metadata": {},
   "source": [
    "## Classification report"
   ]
  },
  {
   "cell_type": "code",
   "execution_count": 101,
   "id": "1f52befb",
   "metadata": {
    "scrolled": true
   },
   "outputs": [
    {
     "data": {
      "text/plain": [
       "array(['Iris-versicolor', 'Iris-setosa', 'Iris-virginica',\n",
       "       'Iris-versicolor', 'Iris-versicolor', 'Iris-setosa',\n",
       "       'Iris-versicolor', 'Iris-virginica', 'Iris-versicolor',\n",
       "       'Iris-versicolor', 'Iris-virginica', 'Iris-setosa', 'Iris-setosa',\n",
       "       'Iris-setosa', 'Iris-setosa', 'Iris-versicolor', 'Iris-virginica',\n",
       "       'Iris-versicolor', 'Iris-versicolor', 'Iris-virginica',\n",
       "       'Iris-setosa', 'Iris-virginica', 'Iris-setosa', 'Iris-virginica',\n",
       "       'Iris-virginica', 'Iris-virginica', 'Iris-virginica',\n",
       "       'Iris-virginica', 'Iris-setosa', 'Iris-setosa'], dtype=object)"
      ]
     },
     "execution_count": 101,
     "metadata": {},
     "output_type": "execute_result"
    }
   ],
   "source": [
    "y_pred\n"
   ]
  },
  {
   "cell_type": "code",
   "execution_count": 102,
   "id": "f1960aed",
   "metadata": {
    "scrolled": true
   },
   "outputs": [
    {
     "data": {
      "text/plain": [
       "73     Iris-versicolor\n",
       "18         Iris-setosa\n",
       "118     Iris-virginica\n",
       "78     Iris-versicolor\n",
       "76     Iris-versicolor\n",
       "31         Iris-setosa\n",
       "64     Iris-versicolor\n",
       "141     Iris-virginica\n",
       "68     Iris-versicolor\n",
       "82     Iris-versicolor\n",
       "110     Iris-virginica\n",
       "12         Iris-setosa\n",
       "36         Iris-setosa\n",
       "9          Iris-setosa\n",
       "19         Iris-setosa\n",
       "56     Iris-versicolor\n",
       "104     Iris-virginica\n",
       "69     Iris-versicolor\n",
       "55     Iris-versicolor\n",
       "132     Iris-virginica\n",
       "29         Iris-setosa\n",
       "127     Iris-virginica\n",
       "26         Iris-setosa\n",
       "128     Iris-virginica\n",
       "131     Iris-virginica\n",
       "145     Iris-virginica\n",
       "108     Iris-virginica\n",
       "143     Iris-virginica\n",
       "45         Iris-setosa\n",
       "30         Iris-setosa\n",
       "Name: species, dtype: object"
      ]
     },
     "execution_count": 102,
     "metadata": {},
     "output_type": "execute_result"
    }
   ],
   "source": [
    "y_test"
   ]
  },
  {
   "cell_type": "code",
   "execution_count": 103,
   "id": "5d511a22",
   "metadata": {},
   "outputs": [],
   "source": [
    "y_pred= y_pred.tolist()\n"
   ]
  },
  {
   "cell_type": "code",
   "execution_count": 104,
   "id": "de0a2d44",
   "metadata": {},
   "outputs": [],
   "source": [
    "y_test=y_test.tolist()\n",
    "\n"
   ]
  },
  {
   "cell_type": "code",
   "execution_count": 105,
   "id": "7b01707f",
   "metadata": {},
   "outputs": [
    {
     "name": "stdout",
     "output_type": "stream",
     "text": [
      "['Iris-versicolor', 'Iris-setosa', 'Iris-virginica', 'Iris-versicolor', 'Iris-versicolor'] \n",
      " ['Iris-versicolor', 'Iris-setosa', 'Iris-virginica', 'Iris-versicolor', 'Iris-versicolor']\n"
     ]
    }
   ],
   "source": [
    "# Comparing the first 5 outputs with test\n",
    "\n",
    "print(y_test[:5],'\\n',y_pred[:5])"
   ]
  },
  {
   "cell_type": "code",
   "execution_count": 106,
   "id": "cef57c57",
   "metadata": {},
   "outputs": [
    {
     "name": "stdout",
     "output_type": "stream",
     "text": [
      "Classification Report:\n",
      "                  precision    recall  f1-score   support\n",
      "\n",
      "    Iris-setosa       1.00      1.00      1.00        10\n",
      "Iris-versicolor       1.00      1.00      1.00         9\n",
      " Iris-virginica       1.00      1.00      1.00        11\n",
      "\n",
      "       accuracy                           1.00        30\n",
      "      macro avg       1.00      1.00      1.00        30\n",
      "   weighted avg       1.00      1.00      1.00        30\n",
      "\n"
     ]
    }
   ],
   "source": [
    "\n",
    "# A Classification report\n",
    "report = classification_report(y_test, y_pred)\n",
    "print(\"Classification Report:\\n\", report)"
   ]
  },
  {
   "cell_type": "markdown",
   "id": "3c6ad37d",
   "metadata": {},
   "source": [
    "#### Metrics used above\n",
    "\n",
    "## Confusion matrix\n",
    "\n",
    "```\n",
    "|                  | Predicted Negative | Predicted Positive |\n",
    "|------------------|--------------------|--------------------|\n",
    "| Actual Negative  | True Negative (TN) | False Positive (FP)|\n",
    "| Actual Positive  | False Negative (FN)| True Positive (TP) |\n",
    "```\n",
    "\n",
    "In the table, the rows represent the actual classes, while the columns represent the predicted classes. The elements in the table correspond to the number of instances falling into each category.\n",
    "\n",
    "- *True Negative* (TN): Instances that are correctly predicted as negative (correctly classified as the negative class).\n",
    "- *False Positive* (FP): Instances that are incorrectly predicted as positive (incorrectly classified as the positive class).\n",
    "- *False Negative* (FN): Instances that are incorrectly predicted as negative (incorrectly classified as the negative class).\n",
    "- *True Positive* (TP): Instances that are correctly predicted as positive (correctly classified as the positive class).\n",
    "\n",
    "The confusion matrix provides a comprehensive overview of the model's performance by showing the distribution of predicted and actual labels. It is a valuable tool for evaluating the accuracy and effectiveness of a classification model."
   ]
  },
  {
   "cell_type": "markdown",
   "id": "1f029e02",
   "metadata": {},
   "source": [
    "\n",
    "\n",
    "**Precision**:\n",
    "\n",
    "Precision is calculated using the following formula:\n",
    "\n",
    "```\n",
    "Precision = True Positives / (True Positives + False Positives)\n",
    "```\n",
    "\n",
    "Precision measures the proportion of correctly predicted positive instances out of the total predicted positive instances.\n",
    "\n",
    "**Recall**:\n",
    "\n",
    "Recall is calculated using the following formula:\n",
    "\n",
    "```\n",
    "Recall = True Positives / (True Positives + False Negatives)\n",
    "```\n",
    "\n",
    "Recall measures the proportion of correctly predicted positive instances out of the total actual positive instances.\n",
    "\n",
    "**F1-score**:\n",
    "\n",
    "The F1-score is calculated using the following formula, which is the harmonic mean of precision and recall:\n",
    "\n",
    "```\n",
    "F1-score = 2 * (Precision * Recall) / (Precision + Recall)\n",
    "```\n",
    "\n",
    "The F1-score provides a balanced measure of a model's performance, taking into account both precision and recall.\n",
    "\n",
    "**Support**:\n",
    "\n",
    "Support refers to the number of actual instances in each class in the dataset. It represents the number of occurrences of each class in the dataset.\n",
    "\n",
    "These metrics are commonly used to evaluate the performance of classification models."
   ]
  },
  {
   "cell_type": "markdown",
   "id": "ef31a6ae",
   "metadata": {},
   "source": [
    "# ---------------   Thank You    ---------------------------"
   ]
  },
  {
   "cell_type": "code",
   "execution_count": null,
   "id": "ef9760ff",
   "metadata": {},
   "outputs": [],
   "source": []
  }
 ],
 "metadata": {
  "kernelspec": {
   "display_name": "Python 3 (ipykernel)",
   "language": "python",
   "name": "python3"
  },
  "language_info": {
   "codemirror_mode": {
    "name": "ipython",
    "version": 3
   },
   "file_extension": ".py",
   "mimetype": "text/x-python",
   "name": "python",
   "nbconvert_exporter": "python",
   "pygments_lexer": "ipython3",
   "version": "3.10.9"
  }
 },
 "nbformat": 4,
 "nbformat_minor": 5
}
